{
 "cells": [
  {
   "cell_type": "code",
   "execution_count": 1,
   "metadata": {},
   "outputs": [
    {
     "name": "stderr",
     "output_type": "stream",
     "text": [
      "Using TensorFlow backend.\n",
      "C:\\Users\\shash\\anaconda3\\lib\\site-packages\\tensorflow\\python\\framework\\dtypes.py:516: FutureWarning: Passing (type, 1) or '1type' as a synonym of type is deprecated; in a future version of numpy, it will be understood as (type, (1,)) / '(1,)type'.\n",
      "  _np_qint8 = np.dtype([(\"qint8\", np.int8, 1)])\n",
      "C:\\Users\\shash\\anaconda3\\lib\\site-packages\\tensorflow\\python\\framework\\dtypes.py:517: FutureWarning: Passing (type, 1) or '1type' as a synonym of type is deprecated; in a future version of numpy, it will be understood as (type, (1,)) / '(1,)type'.\n",
      "  _np_quint8 = np.dtype([(\"quint8\", np.uint8, 1)])\n",
      "C:\\Users\\shash\\anaconda3\\lib\\site-packages\\tensorflow\\python\\framework\\dtypes.py:518: FutureWarning: Passing (type, 1) or '1type' as a synonym of type is deprecated; in a future version of numpy, it will be understood as (type, (1,)) / '(1,)type'.\n",
      "  _np_qint16 = np.dtype([(\"qint16\", np.int16, 1)])\n",
      "C:\\Users\\shash\\anaconda3\\lib\\site-packages\\tensorflow\\python\\framework\\dtypes.py:519: FutureWarning: Passing (type, 1) or '1type' as a synonym of type is deprecated; in a future version of numpy, it will be understood as (type, (1,)) / '(1,)type'.\n",
      "  _np_quint16 = np.dtype([(\"quint16\", np.uint16, 1)])\n",
      "C:\\Users\\shash\\anaconda3\\lib\\site-packages\\tensorflow\\python\\framework\\dtypes.py:520: FutureWarning: Passing (type, 1) or '1type' as a synonym of type is deprecated; in a future version of numpy, it will be understood as (type, (1,)) / '(1,)type'.\n",
      "  _np_qint32 = np.dtype([(\"qint32\", np.int32, 1)])\n",
      "C:\\Users\\shash\\anaconda3\\lib\\site-packages\\tensorflow\\python\\framework\\dtypes.py:525: FutureWarning: Passing (type, 1) or '1type' as a synonym of type is deprecated; in a future version of numpy, it will be understood as (type, (1,)) / '(1,)type'.\n",
      "  np_resource = np.dtype([(\"resource\", np.ubyte, 1)])\n",
      "C:\\Users\\shash\\anaconda3\\lib\\site-packages\\tensorboard\\compat\\tensorflow_stub\\dtypes.py:541: FutureWarning: Passing (type, 1) or '1type' as a synonym of type is deprecated; in a future version of numpy, it will be understood as (type, (1,)) / '(1,)type'.\n",
      "  _np_qint8 = np.dtype([(\"qint8\", np.int8, 1)])\n",
      "C:\\Users\\shash\\anaconda3\\lib\\site-packages\\tensorboard\\compat\\tensorflow_stub\\dtypes.py:542: FutureWarning: Passing (type, 1) or '1type' as a synonym of type is deprecated; in a future version of numpy, it will be understood as (type, (1,)) / '(1,)type'.\n",
      "  _np_quint8 = np.dtype([(\"quint8\", np.uint8, 1)])\n",
      "C:\\Users\\shash\\anaconda3\\lib\\site-packages\\tensorboard\\compat\\tensorflow_stub\\dtypes.py:543: FutureWarning: Passing (type, 1) or '1type' as a synonym of type is deprecated; in a future version of numpy, it will be understood as (type, (1,)) / '(1,)type'.\n",
      "  _np_qint16 = np.dtype([(\"qint16\", np.int16, 1)])\n",
      "C:\\Users\\shash\\anaconda3\\lib\\site-packages\\tensorboard\\compat\\tensorflow_stub\\dtypes.py:544: FutureWarning: Passing (type, 1) or '1type' as a synonym of type is deprecated; in a future version of numpy, it will be understood as (type, (1,)) / '(1,)type'.\n",
      "  _np_quint16 = np.dtype([(\"quint16\", np.uint16, 1)])\n",
      "C:\\Users\\shash\\anaconda3\\lib\\site-packages\\tensorboard\\compat\\tensorflow_stub\\dtypes.py:545: FutureWarning: Passing (type, 1) or '1type' as a synonym of type is deprecated; in a future version of numpy, it will be understood as (type, (1,)) / '(1,)type'.\n",
      "  _np_qint32 = np.dtype([(\"qint32\", np.int32, 1)])\n",
      "C:\\Users\\shash\\anaconda3\\lib\\site-packages\\tensorboard\\compat\\tensorflow_stub\\dtypes.py:550: FutureWarning: Passing (type, 1) or '1type' as a synonym of type is deprecated; in a future version of numpy, it will be understood as (type, (1,)) / '(1,)type'.\n",
      "  np_resource = np.dtype([(\"resource\", np.ubyte, 1)])\n"
     ]
    }
   ],
   "source": [
    "from keras.models import Sequential\n",
    "from keras.layers import Dense\n",
    "from keras.layers import Convolution2D\n",
    "from keras.layers import MaxPooling2D\n",
    "from keras.layers import Flatten\n",
    "import warnings\n",
    "warnings.filterwarnings('ignore')"
   ]
  },
  {
   "cell_type": "code",
   "execution_count": 2,
   "metadata": {},
   "outputs": [
    {
     "name": "stdout",
     "output_type": "stream",
     "text": [
      "WARNING:tensorflow:From C:\\Users\\shash\\anaconda3\\lib\\site-packages\\keras\\backend\\tensorflow_backend.py:74: The name tf.get_default_graph is deprecated. Please use tf.compat.v1.get_default_graph instead.\n",
      "\n"
     ]
    }
   ],
   "source": [
    "model = Sequential()"
   ]
  },
  {
   "cell_type": "code",
   "execution_count": 3,
   "metadata": {},
   "outputs": [
    {
     "name": "stdout",
     "output_type": "stream",
     "text": [
      "WARNING:tensorflow:From C:\\Users\\shash\\anaconda3\\lib\\site-packages\\keras\\backend\\tensorflow_backend.py:517: The name tf.placeholder is deprecated. Please use tf.compat.v1.placeholder instead.\n",
      "\n",
      "WARNING:tensorflow:From C:\\Users\\shash\\anaconda3\\lib\\site-packages\\keras\\backend\\tensorflow_backend.py:4138: The name tf.random_uniform is deprecated. Please use tf.random.uniform instead.\n",
      "\n"
     ]
    }
   ],
   "source": [
    "model.add(Convolution2D(32,(3,3), input_shape = (64,64,3), activation = 'relu'))"
   ]
  },
  {
   "cell_type": "code",
   "execution_count": 4,
   "metadata": {},
   "outputs": [
    {
     "name": "stdout",
     "output_type": "stream",
     "text": [
      "WARNING:tensorflow:From C:\\Users\\shash\\anaconda3\\lib\\site-packages\\keras\\backend\\tensorflow_backend.py:3976: The name tf.nn.max_pool is deprecated. Please use tf.nn.max_pool2d instead.\n",
      "\n"
     ]
    }
   ],
   "source": [
    "model.add(MaxPooling2D(pool_size = (2,2)))"
   ]
  },
  {
   "cell_type": "code",
   "execution_count": 5,
   "metadata": {},
   "outputs": [],
   "source": [
    "model.add(Flatten())"
   ]
  },
  {
   "cell_type": "code",
   "execution_count": 6,
   "metadata": {},
   "outputs": [],
   "source": [
    "model.add(Dense(units = 128, init ='uniform', activation ='relu'))"
   ]
  },
  {
   "cell_type": "code",
   "execution_count": 7,
   "metadata": {},
   "outputs": [],
   "source": [
    "model.add(Dense(output_dim = 1,activation = 'sigmoid',init ='uniform'))"
   ]
  },
  {
   "cell_type": "code",
   "execution_count": 8,
   "metadata": {},
   "outputs": [],
   "source": [
    "from keras.preprocessing.image import ImageDataGenerator\n",
    "train_datagen = ImageDataGenerator(rescale = 1./255,shear_range = 0.2,zoom_range = 0.2,horizontal_flip = True)\n",
    "test_datagen =ImageDataGenerator(rescale = 1)"
   ]
  },
  {
   "cell_type": "code",
   "execution_count": 9,
   "metadata": {},
   "outputs": [
    {
     "name": "stdout",
     "output_type": "stream",
     "text": [
      "Found 203 images belonging to 2 classes.\n",
      "Found 50 images belonging to 2 classes.\n"
     ]
    }
   ],
   "source": [
    "x_train = train_datagen.flow_from_directory(r'C:\\Users\\Sai\\Desktop\\Brain_Tumor_Detection_Webapp\\Dataset\\brain_tumor_dataset\\Training', target_size = (64,64), batch_size = 8, class_mode = 'binary')\n",
    "x_test = test_datagen.flow_from_directory(r'C:\\Users\\Sai\\Desktop\\Brain_Tumor_Detection_Webapp\\Dataset\\brain_tumor_dataset\\Test', target_size = (64,64), batch_size = 8, class_mode = 'binary')"
   ]
  },
  {
   "cell_type": "code",
   "execution_count": 10,
   "metadata": {},
   "outputs": [
    {
     "name": "stdout",
     "output_type": "stream",
     "text": [
      "{'no': 0, 'yes': 1}\n"
     ]
    }
   ],
   "source": [
    "print(x_train.class_indices)"
   ]
  },
  {
   "cell_type": "code",
   "execution_count": 11,
   "metadata": {},
   "outputs": [
    {
     "name": "stdout",
     "output_type": "stream",
     "text": [
      "WARNING:tensorflow:From C:\\Users\\shash\\anaconda3\\lib\\site-packages\\keras\\optimizers.py:790: The name tf.train.Optimizer is deprecated. Please use tf.compat.v1.train.Optimizer instead.\n",
      "\n",
      "WARNING:tensorflow:From C:\\Users\\shash\\anaconda3\\lib\\site-packages\\keras\\backend\\tensorflow_backend.py:3376: The name tf.log is deprecated. Please use tf.math.log instead.\n",
      "\n",
      "WARNING:tensorflow:From C:\\Users\\shash\\anaconda3\\lib\\site-packages\\tensorflow\\python\\ops\\nn_impl.py:180: add_dispatch_support.<locals>.wrapper (from tensorflow.python.ops.array_ops) is deprecated and will be removed in a future version.\n",
      "Instructions for updating:\n",
      "Use tf.where in 2.0, which has the same broadcast rule as np.where\n"
     ]
    }
   ],
   "source": [
    "model.compile(loss = 'binary_crossentropy',optimizer = \"adam\",metrics = [\"accuracy\"])"
   ]
  },
  {
   "cell_type": "code",
   "execution_count": 12,
   "metadata": {},
   "outputs": [
    {
     "name": "stdout",
     "output_type": "stream",
     "text": [
      "WARNING:tensorflow:From C:\\Users\\shash\\anaconda3\\lib\\site-packages\\keras\\backend\\tensorflow_backend.py:986: The name tf.assign_add is deprecated. Please use tf.compat.v1.assign_add instead.\n",
      "\n",
      "Epoch 1/100\n",
      "25/25 [==============================] - 5s 217ms/step - loss: 0.6237 - acc: 0.6450 - val_loss: 1.9089 - val_acc: 0.8750\n",
      "Epoch 2/100\n",
      "25/25 [==============================] - 3s 119ms/step - loss: 0.5740 - acc: 0.6887 - val_loss: 4.9352 - val_acc: 0.6905\n",
      "Epoch 3/100\n",
      "25/25 [==============================] - 3s 122ms/step - loss: 0.5625 - acc: 0.7317 - val_loss: 3.4739 - val_acc: 0.7619\n",
      "Epoch 4/100\n",
      "25/25 [==============================] - 3s 125ms/step - loss: 0.5787 - acc: 0.7247 - val_loss: 2.7936 - val_acc: 0.8095\n",
      "Epoch 5/100\n",
      "25/25 [==============================] - 3s 111ms/step - loss: 0.5100 - acc: 0.7548 - val_loss: 2.6571 - val_acc: 0.8333\n",
      "Epoch 6/100\n",
      "25/25 [==============================] - 3s 129ms/step - loss: 0.4907 - acc: 0.7217 - val_loss: 3.4372 - val_acc: 0.7857\n",
      "Epoch 7/100\n",
      "25/25 [==============================] - 3s 122ms/step - loss: 0.4920 - acc: 0.7518 - val_loss: 2.6571 - val_acc: 0.8333\n",
      "Epoch 8/100\n",
      "25/25 [==============================] - 3s 119ms/step - loss: 0.4432 - acc: 0.8048 - val_loss: 3.6608 - val_acc: 0.7708\n",
      "Epoch 9/100\n",
      "25/25 [==============================] - 3s 127ms/step - loss: 0.4258 - acc: 0.7968 - val_loss: 4.5759 - val_acc: 0.7143\n",
      "Epoch 10/100\n",
      "25/25 [==============================] - 3s 114ms/step - loss: 0.4207 - acc: 0.8298 - val_loss: 4.1921 - val_acc: 0.7381\n",
      "Epoch 11/100\n",
      "25/25 [==============================] - 3s 125ms/step - loss: 0.3909 - acc: 0.8599 - val_loss: 3.2581 - val_acc: 0.7857\n",
      "Epoch 12/100\n",
      "25/25 [==============================] - 3s 122ms/step - loss: 0.3966 - acc: 0.8348 - val_loss: 4.5760 - val_acc: 0.7143\n",
      "Epoch 13/100\n",
      "25/25 [==============================] - 3s 124ms/step - loss: 0.3836 - acc: 0.8268 - val_loss: 3.4413 - val_acc: 0.7857\n",
      "Epoch 14/100\n",
      "25/25 [==============================] - 3s 122ms/step - loss: 0.4028 - acc: 0.8198 - val_loss: 2.6696 - val_acc: 0.8333\n",
      "Epoch 15/100\n",
      "25/25 [==============================] - 3s 119ms/step - loss: 0.3683 - acc: 0.8599 - val_loss: 4.6455 - val_acc: 0.7083\n",
      "Epoch 16/100\n",
      "25/25 [==============================] - 3s 126ms/step - loss: 0.3822 - acc: 0.8398 - val_loss: 4.2047 - val_acc: 0.7381\n",
      "Epoch 17/100\n",
      "25/25 [==============================] - 3s 120ms/step - loss: 0.3783 - acc: 0.8468 - val_loss: 2.2942 - val_acc: 0.8571\n",
      "Epoch 18/100\n",
      "25/25 [==============================] - 3s 122ms/step - loss: 0.3203 - acc: 0.8799 - val_loss: 1.5965 - val_acc: 0.8810\n",
      "Epoch 19/100\n",
      "25/25 [==============================] - 3s 118ms/step - loss: 0.3630 - acc: 0.8338 - val_loss: 4.5598 - val_acc: 0.7143\n",
      "Epoch 20/100\n",
      "25/25 [==============================] - 3s 123ms/step - loss: 0.3324 - acc: 0.8649 - val_loss: 2.2900 - val_acc: 0.8571\n",
      "Epoch 21/100\n",
      "25/25 [==============================] - 3s 116ms/step - loss: 0.4188 - acc: 0.8048 - val_loss: 1.9576 - val_acc: 0.8571\n",
      "Epoch 22/100\n",
      "25/25 [==============================] - 3s 126ms/step - loss: 0.2761 - acc: 0.9249 - val_loss: 3.6754 - val_acc: 0.7708\n",
      "Epoch 23/100\n",
      "25/25 [==============================] - 3s 121ms/step - loss: 0.2816 - acc: 0.9099 - val_loss: 4.2047 - val_acc: 0.7381\n",
      "Epoch 24/100\n",
      "25/25 [==============================] - 3s 119ms/step - loss: 0.3560 - acc: 0.8599 - val_loss: 3.0659 - val_acc: 0.8095\n",
      "Epoch 25/100\n",
      "25/25 [==============================] - 3s 121ms/step - loss: 0.2916 - acc: 0.8919 - val_loss: 3.0497 - val_acc: 0.8095\n",
      "Epoch 26/100\n",
      "25/25 [==============================] - 3s 121ms/step - loss: 0.3240 - acc: 0.8649 - val_loss: 2.4877 - val_acc: 0.8333\n",
      "Epoch 27/100\n",
      "25/25 [==============================] - 3s 123ms/step - loss: 0.2899 - acc: 0.8900 - val_loss: 4.5843 - val_acc: 0.7143\n",
      "Epoch 28/100\n",
      "25/25 [==============================] - 3s 122ms/step - loss: 0.2517 - acc: 0.9049 - val_loss: 2.8794 - val_acc: 0.7857\n",
      "Epoch 29/100\n",
      "25/25 [==============================] - 3s 118ms/step - loss: 0.2824 - acc: 0.8899 - val_loss: 3.5971 - val_acc: 0.7708\n",
      "Epoch 30/100\n",
      "25/25 [==============================] - 3s 124ms/step - loss: 0.1960 - acc: 0.9399 - val_loss: 3.4330 - val_acc: 0.7857\n",
      "Epoch 31/100\n",
      "25/25 [==============================] - 3s 122ms/step - loss: 0.2060 - acc: 0.9349 - val_loss: 2.2900 - val_acc: 0.8571\n",
      "Epoch 32/100\n",
      "25/25 [==============================] - 3s 124ms/step - loss: 0.2851 - acc: 0.8699 - val_loss: 4.5633 - val_acc: 0.7143\n",
      "Epoch 33/100\n",
      "25/25 [==============================] - 3s 129ms/step - loss: 0.2035 - acc: 0.9149 - val_loss: 2.2942 - val_acc: 0.8571\n",
      "Epoch 34/100\n",
      "25/25 [==============================] - 3s 120ms/step - loss: 0.2909 - acc: 0.8869 - val_loss: 4.1921 - val_acc: 0.7381\n",
      "Epoch 35/100\n",
      "25/25 [==============================] - 3s 116ms/step - loss: 0.2341 - acc: 0.8999 - val_loss: 3.7722 - val_acc: 0.7619\n",
      "Epoch 36/100\n",
      "25/25 [==============================] - 3s 125ms/step - loss: 0.2154 - acc: 0.8999 - val_loss: 3.6718 - val_acc: 0.7708\n",
      "Epoch 37/100\n",
      "25/25 [==============================] - 3s 120ms/step - loss: 0.2273 - acc: 0.9099 - val_loss: 2.4568 - val_acc: 0.8333\n",
      "Epoch 38/100\n",
      "25/25 [==============================] - 3s 117ms/step - loss: 0.2117 - acc: 0.9199 - val_loss: 4.5717 - val_acc: 0.7143\n",
      "Epoch 39/100\n",
      "25/25 [==============================] - 3s 122ms/step - loss: 0.2744 - acc: 0.9099 - val_loss: 6.1415 - val_acc: 0.5952\n",
      "Epoch 40/100\n",
      "25/25 [==============================] - 3s 123ms/step - loss: 0.2194 - acc: 0.9199 - val_loss: 3.0450 - val_acc: 0.8095\n",
      "Epoch 41/100\n",
      "25/25 [==============================] - 3s 123ms/step - loss: 0.1862 - acc: 0.9299 - val_loss: 2.6654 - val_acc: 0.8333\n",
      "Epoch 42/100\n",
      "25/25 [==============================] - 3s 124ms/step - loss: 0.1915 - acc: 0.9299 - val_loss: 2.6822 - val_acc: 0.8333\n",
      "Epoch 43/100\n",
      "25/25 [==============================] - 3s 124ms/step - loss: 0.2227 - acc: 0.9149 - val_loss: 4.6791 - val_acc: 0.7083\n",
      "Epoch 44/100\n",
      "25/25 [==============================] - 3s 123ms/step - loss: 0.2512 - acc: 0.8889 - val_loss: 1.9146 - val_acc: 0.8810\n",
      "Epoch 45/100\n",
      "25/25 [==============================] - 3s 127ms/step - loss: 0.2103 - acc: 0.9299 - val_loss: 2.6571 - val_acc: 0.8333\n",
      "Epoch 46/100\n",
      "25/25 [==============================] - 3s 124ms/step - loss: 0.1895 - acc: 0.9199 - val_loss: 3.4330 - val_acc: 0.7857\n",
      "Epoch 47/100\n",
      "25/25 [==============================] - 3s 118ms/step - loss: 0.1981 - acc: 0.9349 - val_loss: 3.4413 - val_acc: 0.7857\n",
      "Epoch 48/100\n",
      "25/25 [==============================] - 3s 127ms/step - loss: 0.1650 - acc: 0.9500 - val_loss: 3.8251 - val_acc: 0.7619\n",
      "Epoch 49/100\n",
      "25/25 [==============================] - 3s 122ms/step - loss: 0.1570 - acc: 0.9449 - val_loss: 3.8042 - val_acc: 0.7619\n",
      "Epoch 50/100\n",
      "25/25 [==============================] - 3s 122ms/step - loss: 0.1750 - acc: 0.9369 - val_loss: 3.3222 - val_acc: 0.7917\n",
      "Epoch 51/100\n",
      "25/25 [==============================] - 3s 120ms/step - loss: 0.2396 - acc: 0.8899 - val_loss: 3.8293 - val_acc: 0.7619\n",
      "Epoch 52/100\n",
      "25/25 [==============================] - 3s 119ms/step - loss: 0.2298 - acc: 0.8999 - val_loss: 3.4288 - val_acc: 0.7857\n",
      "Epoch 53/100\n",
      "25/25 [==============================] - 3s 120ms/step - loss: 0.1363 - acc: 0.9550 - val_loss: 2.6571 - val_acc: 0.8333\n",
      "Epoch 54/100\n",
      "25/25 [==============================] - 3s 119ms/step - loss: 0.1542 - acc: 0.9369 - val_loss: 3.4413 - val_acc: 0.7857\n",
      "Epoch 55/100\n",
      "25/25 [==============================] - 3s 123ms/step - loss: 0.1783 - acc: 0.9199 - val_loss: 4.1921 - val_acc: 0.7381\n",
      "Epoch 56/100\n",
      "25/25 [==============================] - 3s 114ms/step - loss: 0.1856 - acc: 0.9419 - val_loss: 3.4288 - val_acc: 0.7857\n",
      "Epoch 57/100\n",
      "25/25 [==============================] - 3s 118ms/step - loss: 0.2024 - acc: 0.9399 - val_loss: 3.3470 - val_acc: 0.7917\n",
      "Epoch 58/100\n",
      "25/25 [==============================] - 3s 119ms/step - loss: 0.2318 - acc: 0.8869 - val_loss: 4.5675 - val_acc: 0.7143\n",
      "Epoch 59/100\n",
      "25/25 [==============================] - 3s 120ms/step - loss: 0.1406 - acc: 0.9600 - val_loss: 3.4413 - val_acc: 0.7857\n",
      "Epoch 60/100\n",
      "25/25 [==============================] - 3s 128ms/step - loss: 0.0913 - acc: 0.9650 - val_loss: 3.8167 - val_acc: 0.7619\n"
     ]
    },
    {
     "name": "stdout",
     "output_type": "stream",
     "text": [
      "Epoch 61/100\n",
      "25/25 [==============================] - 3s 119ms/step - loss: 0.1383 - acc: 0.9550 - val_loss: 2.2942 - val_acc: 0.8571\n",
      "Epoch 62/100\n",
      "25/25 [==============================] - 3s 120ms/step - loss: 0.1633 - acc: 0.9299 - val_loss: 3.1795 - val_acc: 0.7857\n",
      "Epoch 63/100\n",
      "25/25 [==============================] - 3s 111ms/step - loss: 0.0714 - acc: 0.9900 - val_loss: 2.6822 - val_acc: 0.8333\n",
      "Epoch 64/100\n",
      "25/25 [==============================] - 3s 126ms/step - loss: 0.1182 - acc: 0.9650 - val_loss: 3.0766 - val_acc: 0.7917\n",
      "Epoch 65/100\n",
      "25/25 [==============================] - 3s 125ms/step - loss: 0.1060 - acc: 0.9600 - val_loss: 2.3423 - val_acc: 0.8333\n",
      "Epoch 66/100\n",
      "25/25 [==============================] - 3s 121ms/step - loss: 0.1514 - acc: 0.9399 - val_loss: 2.6652 - val_acc: 0.8333\n",
      "Epoch 67/100\n",
      "25/25 [==============================] - 3s 124ms/step - loss: 0.0807 - acc: 0.9650 - val_loss: 2.3466 - val_acc: 0.8333\n",
      "Epoch 68/100\n",
      "25/25 [==============================] - 3s 120ms/step - loss: 0.1055 - acc: 0.9750 - val_loss: 3.0617 - val_acc: 0.8095\n",
      "Epoch 69/100\n",
      "25/25 [==============================] - 3s 116ms/step - loss: 0.1165 - acc: 0.9650 - val_loss: 4.5759 - val_acc: 0.7143\n",
      "Epoch 70/100\n",
      "25/25 [==============================] - 3s 125ms/step - loss: 0.1082 - acc: 0.9550 - val_loss: 3.0617 - val_acc: 0.8095\n",
      "Epoch 71/100\n",
      "25/25 [==============================] - 3s 121ms/step - loss: 0.0987 - acc: 0.9550 - val_loss: 1.9777 - val_acc: 0.8542\n",
      "Epoch 72/100\n",
      "25/25 [==============================] - 3s 117ms/step - loss: 0.1268 - acc: 0.9600 - val_loss: 2.6612 - val_acc: 0.8333\n",
      "Epoch 73/100\n",
      "25/25 [==============================] - 3s 120ms/step - loss: 0.0943 - acc: 0.9650 - val_loss: 2.2942 - val_acc: 0.8571\n",
      "Epoch 74/100\n",
      "25/25 [==============================] - 3s 119ms/step - loss: 0.1429 - acc: 0.9449 - val_loss: 3.0617 - val_acc: 0.8095\n",
      "Epoch 75/100\n",
      "25/25 [==============================] - 3s 123ms/step - loss: 0.0650 - acc: 0.9800 - val_loss: 3.0492 - val_acc: 0.8095\n",
      "Epoch 76/100\n",
      "25/25 [==============================] - 3s 124ms/step - loss: 0.0715 - acc: 0.9650 - val_loss: 2.4017 - val_acc: 0.8333\n",
      "Epoch 77/100\n",
      "25/25 [==============================] - 3s 120ms/step - loss: 0.1222 - acc: 0.9650 - val_loss: 1.1429 - val_acc: 0.9286\n",
      "Epoch 78/100\n",
      "25/25 [==============================] - 3s 123ms/step - loss: 0.0612 - acc: 0.9650 - val_loss: 3.0112 - val_acc: 0.8125\n",
      "Epoch 79/100\n",
      "25/25 [==============================] - 3s 120ms/step - loss: 0.0773 - acc: 0.9750 - val_loss: 2.8268 - val_acc: 0.8095\n",
      "Epoch 80/100\n",
      "25/25 [==============================] - 3s 122ms/step - loss: 0.1064 - acc: 0.9449 - val_loss: 2.9366 - val_acc: 0.7857\n",
      "Epoch 81/100\n",
      "25/25 [==============================] - 3s 119ms/step - loss: 0.0695 - acc: 0.9700 - val_loss: 2.2859 - val_acc: 0.8571\n",
      "Epoch 82/100\n",
      "25/25 [==============================] - 3s 117ms/step - loss: 0.0661 - acc: 0.9750 - val_loss: 2.2942 - val_acc: 0.8571\n",
      "Epoch 83/100\n",
      "25/25 [==============================] - 3s 120ms/step - loss: 0.0867 - acc: 0.9700 - val_loss: 2.6780 - val_acc: 0.8333\n",
      "Epoch 84/100\n",
      "25/25 [==============================] - 3s 122ms/step - loss: 0.0471 - acc: 0.9850 - val_loss: 2.6738 - val_acc: 0.8333\n",
      "Epoch 85/100\n",
      "25/25 [==============================] - 3s 118ms/step - loss: 0.1548 - acc: 0.9369 - val_loss: 2.6754 - val_acc: 0.8333\n",
      "Epoch 86/100\n",
      "25/25 [==============================] - 3s 115ms/step - loss: 0.1331 - acc: 0.9750 - val_loss: 1.9146 - val_acc: 0.8810\n",
      "Epoch 87/100\n",
      "25/25 [==============================] - 3s 116ms/step - loss: 0.1033 - acc: 0.9600 - val_loss: 1.5309 - val_acc: 0.9048\n",
      "Epoch 88/100\n",
      "25/25 [==============================] - 3s 121ms/step - loss: 0.0948 - acc: 0.9650 - val_loss: 2.2984 - val_acc: 0.8571\n",
      "Epoch 89/100\n",
      "25/25 [==============================] - 3s 113ms/step - loss: 0.0597 - acc: 0.9800 - val_loss: 1.9105 - val_acc: 0.8810\n",
      "Epoch 90/100\n",
      "25/25 [==============================] - 3s 112ms/step - loss: 0.0172 - acc: 0.9950 - val_loss: 2.2900 - val_acc: 0.8571\n",
      "Epoch 91/100\n",
      "25/25 [==============================] - 3s 113ms/step - loss: 0.0608 - acc: 0.9800 - val_loss: 3.4371 - val_acc: 0.7857\n",
      "Epoch 92/100\n",
      "25/25 [==============================] - 3s 112ms/step - loss: 0.0572 - acc: 0.9850 - val_loss: 2.3359 - val_acc: 0.8542\n",
      "Epoch 93/100\n",
      "25/25 [==============================] - 3s 120ms/step - loss: 0.0372 - acc: 0.9900 - val_loss: 2.2859 - val_acc: 0.8571\n",
      "Epoch 94/100\n",
      "25/25 [==============================] - 3s 120ms/step - loss: 0.0494 - acc: 0.9800 - val_loss: 3.6610 - val_acc: 0.7619\n",
      "Epoch 95/100\n",
      "25/25 [==============================] - 3s 121ms/step - loss: 0.0802 - acc: 0.9750 - val_loss: 1.9021 - val_acc: 0.8810\n",
      "Epoch 96/100\n",
      "25/25 [==============================] - 3s 120ms/step - loss: 0.0550 - acc: 0.9800 - val_loss: 2.2859 - val_acc: 0.8571\n",
      "Epoch 97/100\n",
      "25/25 [==============================] - 3s 121ms/step - loss: 0.0616 - acc: 0.9700 - val_loss: 3.4330 - val_acc: 0.7857\n",
      "Epoch 98/100\n",
      "25/25 [==============================] - 3s 122ms/step - loss: 0.0682 - acc: 0.9800 - val_loss: 3.0534 - val_acc: 0.8095\n",
      "Epoch 99/100\n",
      "25/25 [==============================] - 3s 121ms/step - loss: 0.1079 - acc: 0.9700 - val_loss: 3.0075 - val_acc: 0.8125\n",
      "Epoch 100/100\n",
      "25/25 [==============================] - 3s 133ms/step - loss: 0.0530 - acc: 0.9850 - val_loss: 3.4497 - val_acc: 0.7857\n"
     ]
    },
    {
     "data": {
      "text/plain": [
       "<keras.callbacks.History at 0x1e0924388c8>"
      ]
     },
     "execution_count": 12,
     "metadata": {},
     "output_type": "execute_result"
    }
   ],
   "source": [
    "model.fit_generator(x_train, steps_per_epoch = 25,epochs = 100,validation_data = x_test,validation_steps = 6)"
   ]
  },
  {
   "cell_type": "code",
   "execution_count": 13,
   "metadata": {},
   "outputs": [],
   "source": [
    "model.save(\"Brain_Tumor.h5\")"
   ]
  },
  {
   "cell_type": "markdown",
   "metadata": {},
   "source": [
    "# Done! And got an accuracy of 78.5%"
   ]
  }
 ],
 "metadata": {
  "kernelspec": {
   "display_name": "Python 3",
   "language": "python",
   "name": "python3"
  },
  "language_info": {
   "codemirror_mode": {
    "name": "ipython",
    "version": 3
   },
   "file_extension": ".py",
   "mimetype": "text/x-python",
   "name": "python",
   "nbconvert_exporter": "python",
   "pygments_lexer": "ipython3",
   "version": "3.7.6"
  }
 },
 "nbformat": 4,
 "nbformat_minor": 4
}
